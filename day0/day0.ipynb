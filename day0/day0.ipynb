{
 "cells": [
  {
   "cell_type": "markdown",
   "source": [
    "# 编码\n",
    "默认情况下，Python3源码文件以utf-8编码，所有字符串都是Unicode字符串。"
   ],
   "metadata": {
    "collapsed": false
   }
  },
  {
   "cell_type": "code",
   "execution_count": 2,
   "outputs": [],
   "source": [
    "# -*- coding:utf-8 -*-"
   ],
   "metadata": {
    "collapsed": false
   }
  },
  {
   "cell_type": "markdown",
   "source": [
    "# 标识符\n",
    "- 第一个字符必须是字母表中字母或下划线`_`\n",
    "- 标识符的其他的部分由字母、数字和下划线组成\n",
    "- 标识符对大小写敏感\n",
    "在 Python 3 中，可以用中文作为变量名，非 ASCII 标识符也是允许的了。"
   ],
   "metadata": {
    "collapsed": false
   }
  },
  {
   "cell_type": "code",
   "execution_count": 2,
   "outputs": [],
   "source": [],
   "metadata": {
    "collapsed": false
   }
  }
 ],
 "metadata": {
  "kernelspec": {
   "display_name": "Python 3",
   "language": "python",
   "name": "python3"
  },
  "language_info": {
   "codemirror_mode": {
    "name": "ipython",
    "version": 2
   },
   "file_extension": ".py",
   "mimetype": "text/x-python",
   "name": "python",
   "nbconvert_exporter": "python",
   "pygments_lexer": "ipython2",
   "version": "2.7.6"
  }
 },
 "nbformat": 4,
 "nbformat_minor": 0
}
